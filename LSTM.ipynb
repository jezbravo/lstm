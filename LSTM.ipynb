{
  "nbformat": 4,
  "nbformat_minor": 0,
  "metadata": {
    "colab": {
      "provenance": []
    },
    "kernelspec": {
      "name": "python3",
      "display_name": "Python 3"
    },
    "language_info": {
      "name": "python"
    }
  },
  "cells": [
    {
      "cell_type": "markdown",
      "source": [
        "##Stock prediction with LSTM. Why to use this network type?"
      ],
      "metadata": {
        "id": "o1nGHnilGm0n"
      }
    },
    {
      "cell_type": "markdown",
      "source": [
        "An LSTM Network is capable of “remembering” relevant data in the sequence and preserving it for several moments of time. Therefore, it can have both a short-term memory (like basic Recurrent Networks) and also a long-term memory. These are some of its capabilities:\n",
        "\n",
        "1. Handling temporal data sequences: LSTM networks are particularly effective for modeling and predicting sequential data, such as time series. This is due to its inherent ability to remember relevant information from past events as it progresses through the sequence.\n",
        "\n",
        "2. Handling long-term dependencies: LSTMs are designed to handle long-term dependencies in data, making them suitable for capturing complex patterns and temporal relationships in time series that can span long periods of time.\n",
        "\n",
        "3. Long-term memory capacity: Unlike traditional recurrent neural networks (RNNs), LSTMs are equipped with gate mechanisms (such as input, forget, and output gates) that allow them to maintain and update information over time , making them more effective at remembering and using important information from past events.\n",
        "\n",
        "4. Preventing gradient fading problems: LSTMs are designed to mitigate gradient fading problems that can arise in simpler recurrent neural networks, allowing them to learn long-term dependencies more effectively.\n",
        "\n",
        "5. Adaptability to different time scales: LSTM networks can adapt to different time scales in the data, making them useful for predicting short-, medium- and long-term time series.\n",
        "\n",
        "**In summary, LSTM networks are a common choice for time series prediction projects due to their ability to model complex temporal relationships, remember long-term information, and mitigate problems associated with time dependence and gradient vanishing.**"
      ],
      "metadata": {
        "id": "TMTsKBvZ3Lqx"
      }
    },
    {
      "cell_type": "markdown",
      "source": [
        "##Limitations of the LSTM network"
      ],
      "metadata": {
        "id": "_DdqgsRp90i7"
      }
    },
    {
      "cell_type": "markdown",
      "source": [
        "1. Computationally Expensive: LSTM networks are more complex than other types of neural networks, making them more computationally expensive in terms of training time and computational resources required.\n",
        "\n",
        "2. Sensitive to Hyperparameters: LSTMs have several hyperparameters that must be tuned appropriately for optimal performance, such as the number of LSTM units, learning rate, loss function, etc. In some cases, finding the right combination of hyperparameters can require a lot of time and experimentation.\n",
        "\n",
        "3. Risk of Overfitting: As with any machine learning model, LSTMs can suffer from overfitting, especially when you have small data sets or when the models are very complex and proper regularization techniques are not used, such as dropout or L2 regularization.\n",
        "\n",
        "4. Difficult to Interpret: LSTMs are black box models, meaning they can be difficult to interpret and understand how they make decisions. This can be a challenge in applications where explainability of the model is important.\n",
        "\n",
        "5. Require Large Data Sets: LSTMs can require large amounts of data to train effectively, especially when used for complex problems or when you want to predict rare or infrequent events."
      ],
      "metadata": {
        "id": "Z1Gf7_7K97dU"
      }
    },
    {
      "cell_type": "markdown",
      "source": [
        "**Despite these limitations, LSTMs remain a powerful and widely used tool in the field of deep learning for a variety of sequence modeling applications. The choice to use an LSTM will depend on the nature of the problem and the resources available.**"
      ],
      "metadata": {
        "id": "bO76EWFZ-gkE"
      }
    },
    {
      "cell_type": "markdown",
      "source": [
        "With that in mind we proceed to start our project by importing the necessary libraries:"
      ],
      "metadata": {
        "id": "wNCb3d3MSu0a"
      }
    },
    {
      "cell_type": "code",
      "execution_count": 1,
      "metadata": {
        "id": "O-CZ-jdoFfuZ"
      },
      "outputs": [],
      "source": [
        "import numpy as np\n",
        "import pandas as pd\n",
        "import matplotlib.pyplot as plt\n",
        "from sklearn.preprocessing import MinMaxScaler\n",
        "from keras.models import Sequential\n",
        "from keras.layers import LSTM, Dense, Dropout"
      ]
    },
    {
      "cell_type": "code",
      "source": [
        "# Allows us to connect to our google drive\n",
        "from google.colab import drive\n",
        "drive.mount('/content/drive')"
      ],
      "metadata": {
        "colab": {
          "base_uri": "https://localhost:8080/"
        },
        "id": "Z1LiiFcK6Imi",
        "outputId": "fb486f7a-833d-4063-ddf6-3f196c0b16be"
      },
      "execution_count": 2,
      "outputs": [
        {
          "output_type": "stream",
          "name": "stdout",
          "text": [
            "Mounted at /content/drive\n"
          ]
        }
      ]
    },
    {
      "cell_type": "markdown",
      "source": [
        "###**DATASET FIRST LOOK**\n",
        "\n",
        "This data set contains the historical record of the behavior of Apple's stock between January 2006 and December 2017.\n",
        "\n",
        "We can easily read this set using the Python Pandas library:"
      ],
      "metadata": {
        "id": "clIBXlblFzP9"
      }
    },
    {
      "cell_type": "code",
      "source": [
        "df = pd.read_csv('/content/drive/MyDrive/Colab Notebooks/apple_stocks.csv', index_col='Date', parse_dates=['Date'])"
      ],
      "metadata": {
        "id": "Uw6FBwYhF1o1"
      },
      "execution_count": 4,
      "outputs": []
    },
    {
      "cell_type": "code",
      "source": [
        "nRow, nCol = df.shape\n",
        "print(f'There are {nRow} rows and {nCol} columns')"
      ],
      "metadata": {
        "colab": {
          "base_uri": "https://localhost:8080/"
        },
        "id": "y68-cdlU6__y",
        "outputId": "080e3a53-e8be-496e-d329-ad1f8f4bff84"
      },
      "execution_count": 5,
      "outputs": [
        {
          "output_type": "stream",
          "name": "stdout",
          "text": [
            "There are 3019 rows and 6 columns\n"
          ]
        }
      ]
    },
    {
      "cell_type": "markdown",
      "source": [
        "When viewing the content of this dataset we can see that each record contains the information of the highest and lowest values ​​reached by the action, as well as the opening and closing values ​​and the volume of the transactions:"
      ],
      "metadata": {
        "id": "YmDwQyC8DFdN"
      }
    },
    {
      "cell_type": "code",
      "source": [
        "df.sample(10)"
      ],
      "metadata": {
        "colab": {
          "base_uri": "https://localhost:8080/",
          "height": 394
        },
        "id": "etotA37Q7E6S",
        "outputId": "6a2c0c93-8947-49c9-d06c-5fe001cd9eae"
      },
      "execution_count": 6,
      "outputs": [
        {
          "output_type": "execute_result",
          "data": {
            "text/plain": [
              "             Open   High    Low  Close     Volume  Name\n",
              "Date                                                   \n",
              "2009-04-20  17.39  17.57  17.02  17.21  116663519  AAPL\n",
              "2012-03-27  86.60  88.04  86.58  87.78  151782141  AAPL\n",
              "2013-02-25  64.84  65.02  63.22  63.26   93144464  AAPL\n",
              "2010-02-10  27.98  28.09  27.75  27.87   92590218  AAPL\n",
              "2006-12-27  11.16  11.71  10.97  11.65  485160788  AAPL\n",
              "2011-06-02  49.50  49.71  49.19  49.44   84721112  AAPL\n",
              "2016-05-16  92.39  94.39  91.65  93.88   61140610  AAPL\n",
              "2007-06-01  17.30  17.31  16.90  16.91  221443390  AAPL\n",
              "2012-09-10  97.21  97.61  94.59  94.68  121998898  AAPL\n",
              "2007-12-14  27.20  28.57  27.08  27.20  168599963  AAPL"
            ],
            "text/html": [
              "\n",
              "  <div id=\"df-040f09d1-99bd-447b-95e6-c2b8e1d282bc\" class=\"colab-df-container\">\n",
              "    <div>\n",
              "<style scoped>\n",
              "    .dataframe tbody tr th:only-of-type {\n",
              "        vertical-align: middle;\n",
              "    }\n",
              "\n",
              "    .dataframe tbody tr th {\n",
              "        vertical-align: top;\n",
              "    }\n",
              "\n",
              "    .dataframe thead th {\n",
              "        text-align: right;\n",
              "    }\n",
              "</style>\n",
              "<table border=\"1\" class=\"dataframe\">\n",
              "  <thead>\n",
              "    <tr style=\"text-align: right;\">\n",
              "      <th></th>\n",
              "      <th>Open</th>\n",
              "      <th>High</th>\n",
              "      <th>Low</th>\n",
              "      <th>Close</th>\n",
              "      <th>Volume</th>\n",
              "      <th>Name</th>\n",
              "    </tr>\n",
              "    <tr>\n",
              "      <th>Date</th>\n",
              "      <th></th>\n",
              "      <th></th>\n",
              "      <th></th>\n",
              "      <th></th>\n",
              "      <th></th>\n",
              "      <th></th>\n",
              "    </tr>\n",
              "  </thead>\n",
              "  <tbody>\n",
              "    <tr>\n",
              "      <th>2009-04-20</th>\n",
              "      <td>17.39</td>\n",
              "      <td>17.57</td>\n",
              "      <td>17.02</td>\n",
              "      <td>17.21</td>\n",
              "      <td>116663519</td>\n",
              "      <td>AAPL</td>\n",
              "    </tr>\n",
              "    <tr>\n",
              "      <th>2012-03-27</th>\n",
              "      <td>86.60</td>\n",
              "      <td>88.04</td>\n",
              "      <td>86.58</td>\n",
              "      <td>87.78</td>\n",
              "      <td>151782141</td>\n",
              "      <td>AAPL</td>\n",
              "    </tr>\n",
              "    <tr>\n",
              "      <th>2013-02-25</th>\n",
              "      <td>64.84</td>\n",
              "      <td>65.02</td>\n",
              "      <td>63.22</td>\n",
              "      <td>63.26</td>\n",
              "      <td>93144464</td>\n",
              "      <td>AAPL</td>\n",
              "    </tr>\n",
              "    <tr>\n",
              "      <th>2010-02-10</th>\n",
              "      <td>27.98</td>\n",
              "      <td>28.09</td>\n",
              "      <td>27.75</td>\n",
              "      <td>27.87</td>\n",
              "      <td>92590218</td>\n",
              "      <td>AAPL</td>\n",
              "    </tr>\n",
              "    <tr>\n",
              "      <th>2006-12-27</th>\n",
              "      <td>11.16</td>\n",
              "      <td>11.71</td>\n",
              "      <td>10.97</td>\n",
              "      <td>11.65</td>\n",
              "      <td>485160788</td>\n",
              "      <td>AAPL</td>\n",
              "    </tr>\n",
              "    <tr>\n",
              "      <th>2011-06-02</th>\n",
              "      <td>49.50</td>\n",
              "      <td>49.71</td>\n",
              "      <td>49.19</td>\n",
              "      <td>49.44</td>\n",
              "      <td>84721112</td>\n",
              "      <td>AAPL</td>\n",
              "    </tr>\n",
              "    <tr>\n",
              "      <th>2016-05-16</th>\n",
              "      <td>92.39</td>\n",
              "      <td>94.39</td>\n",
              "      <td>91.65</td>\n",
              "      <td>93.88</td>\n",
              "      <td>61140610</td>\n",
              "      <td>AAPL</td>\n",
              "    </tr>\n",
              "    <tr>\n",
              "      <th>2007-06-01</th>\n",
              "      <td>17.30</td>\n",
              "      <td>17.31</td>\n",
              "      <td>16.90</td>\n",
              "      <td>16.91</td>\n",
              "      <td>221443390</td>\n",
              "      <td>AAPL</td>\n",
              "    </tr>\n",
              "    <tr>\n",
              "      <th>2012-09-10</th>\n",
              "      <td>97.21</td>\n",
              "      <td>97.61</td>\n",
              "      <td>94.59</td>\n",
              "      <td>94.68</td>\n",
              "      <td>121998898</td>\n",
              "      <td>AAPL</td>\n",
              "    </tr>\n",
              "    <tr>\n",
              "      <th>2007-12-14</th>\n",
              "      <td>27.20</td>\n",
              "      <td>28.57</td>\n",
              "      <td>27.08</td>\n",
              "      <td>27.20</td>\n",
              "      <td>168599963</td>\n",
              "      <td>AAPL</td>\n",
              "    </tr>\n",
              "  </tbody>\n",
              "</table>\n",
              "</div>\n",
              "    <div class=\"colab-df-buttons\">\n",
              "\n",
              "  <div class=\"colab-df-container\">\n",
              "    <button class=\"colab-df-convert\" onclick=\"convertToInteractive('df-040f09d1-99bd-447b-95e6-c2b8e1d282bc')\"\n",
              "            title=\"Convert this dataframe to an interactive table.\"\n",
              "            style=\"display:none;\">\n",
              "\n",
              "  <svg xmlns=\"http://www.w3.org/2000/svg\" height=\"24px\" viewBox=\"0 -960 960 960\">\n",
              "    <path d=\"M120-120v-720h720v720H120Zm60-500h600v-160H180v160Zm220 220h160v-160H400v160Zm0 220h160v-160H400v160ZM180-400h160v-160H180v160Zm440 0h160v-160H620v160ZM180-180h160v-160H180v160Zm440 0h160v-160H620v160Z\"/>\n",
              "  </svg>\n",
              "    </button>\n",
              "\n",
              "  <style>\n",
              "    .colab-df-container {\n",
              "      display:flex;\n",
              "      gap: 12px;\n",
              "    }\n",
              "\n",
              "    .colab-df-convert {\n",
              "      background-color: #E8F0FE;\n",
              "      border: none;\n",
              "      border-radius: 50%;\n",
              "      cursor: pointer;\n",
              "      display: none;\n",
              "      fill: #1967D2;\n",
              "      height: 32px;\n",
              "      padding: 0 0 0 0;\n",
              "      width: 32px;\n",
              "    }\n",
              "\n",
              "    .colab-df-convert:hover {\n",
              "      background-color: #E2EBFA;\n",
              "      box-shadow: 0px 1px 2px rgba(60, 64, 67, 0.3), 0px 1px 3px 1px rgba(60, 64, 67, 0.15);\n",
              "      fill: #174EA6;\n",
              "    }\n",
              "\n",
              "    .colab-df-buttons div {\n",
              "      margin-bottom: 4px;\n",
              "    }\n",
              "\n",
              "    [theme=dark] .colab-df-convert {\n",
              "      background-color: #3B4455;\n",
              "      fill: #D2E3FC;\n",
              "    }\n",
              "\n",
              "    [theme=dark] .colab-df-convert:hover {\n",
              "      background-color: #434B5C;\n",
              "      box-shadow: 0px 1px 3px 1px rgba(0, 0, 0, 0.15);\n",
              "      filter: drop-shadow(0px 1px 2px rgba(0, 0, 0, 0.3));\n",
              "      fill: #FFFFFF;\n",
              "    }\n",
              "  </style>\n",
              "\n",
              "    <script>\n",
              "      const buttonEl =\n",
              "        document.querySelector('#df-040f09d1-99bd-447b-95e6-c2b8e1d282bc button.colab-df-convert');\n",
              "      buttonEl.style.display =\n",
              "        google.colab.kernel.accessAllowed ? 'block' : 'none';\n",
              "\n",
              "      async function convertToInteractive(key) {\n",
              "        const element = document.querySelector('#df-040f09d1-99bd-447b-95e6-c2b8e1d282bc');\n",
              "        const dataTable =\n",
              "          await google.colab.kernel.invokeFunction('convertToInteractive',\n",
              "                                                    [key], {});\n",
              "        if (!dataTable) return;\n",
              "\n",
              "        const docLinkHtml = 'Like what you see? Visit the ' +\n",
              "          '<a target=\"_blank\" href=https://colab.research.google.com/notebooks/data_table.ipynb>data table notebook</a>'\n",
              "          + ' to learn more about interactive tables.';\n",
              "        element.innerHTML = '';\n",
              "        dataTable['output_type'] = 'display_data';\n",
              "        await google.colab.output.renderOutput(dataTable, element);\n",
              "        const docLink = document.createElement('div');\n",
              "        docLink.innerHTML = docLinkHtml;\n",
              "        element.appendChild(docLink);\n",
              "      }\n",
              "    </script>\n",
              "  </div>\n",
              "\n",
              "\n",
              "<div id=\"df-44471fba-e42a-417b-add9-86eb934fb4c0\">\n",
              "  <button class=\"colab-df-quickchart\" onclick=\"quickchart('df-44471fba-e42a-417b-add9-86eb934fb4c0')\"\n",
              "            title=\"Suggest charts\"\n",
              "            style=\"display:none;\">\n",
              "\n",
              "<svg xmlns=\"http://www.w3.org/2000/svg\" height=\"24px\"viewBox=\"0 0 24 24\"\n",
              "     width=\"24px\">\n",
              "    <g>\n",
              "        <path d=\"M19 3H5c-1.1 0-2 .9-2 2v14c0 1.1.9 2 2 2h14c1.1 0 2-.9 2-2V5c0-1.1-.9-2-2-2zM9 17H7v-7h2v7zm4 0h-2V7h2v10zm4 0h-2v-4h2v4z\"/>\n",
              "    </g>\n",
              "</svg>\n",
              "  </button>\n",
              "\n",
              "<style>\n",
              "  .colab-df-quickchart {\n",
              "      --bg-color: #E8F0FE;\n",
              "      --fill-color: #1967D2;\n",
              "      --hover-bg-color: #E2EBFA;\n",
              "      --hover-fill-color: #174EA6;\n",
              "      --disabled-fill-color: #AAA;\n",
              "      --disabled-bg-color: #DDD;\n",
              "  }\n",
              "\n",
              "  [theme=dark] .colab-df-quickchart {\n",
              "      --bg-color: #3B4455;\n",
              "      --fill-color: #D2E3FC;\n",
              "      --hover-bg-color: #434B5C;\n",
              "      --hover-fill-color: #FFFFFF;\n",
              "      --disabled-bg-color: #3B4455;\n",
              "      --disabled-fill-color: #666;\n",
              "  }\n",
              "\n",
              "  .colab-df-quickchart {\n",
              "    background-color: var(--bg-color);\n",
              "    border: none;\n",
              "    border-radius: 50%;\n",
              "    cursor: pointer;\n",
              "    display: none;\n",
              "    fill: var(--fill-color);\n",
              "    height: 32px;\n",
              "    padding: 0;\n",
              "    width: 32px;\n",
              "  }\n",
              "\n",
              "  .colab-df-quickchart:hover {\n",
              "    background-color: var(--hover-bg-color);\n",
              "    box-shadow: 0 1px 2px rgba(60, 64, 67, 0.3), 0 1px 3px 1px rgba(60, 64, 67, 0.15);\n",
              "    fill: var(--button-hover-fill-color);\n",
              "  }\n",
              "\n",
              "  .colab-df-quickchart-complete:disabled,\n",
              "  .colab-df-quickchart-complete:disabled:hover {\n",
              "    background-color: var(--disabled-bg-color);\n",
              "    fill: var(--disabled-fill-color);\n",
              "    box-shadow: none;\n",
              "  }\n",
              "\n",
              "  .colab-df-spinner {\n",
              "    border: 2px solid var(--fill-color);\n",
              "    border-color: transparent;\n",
              "    border-bottom-color: var(--fill-color);\n",
              "    animation:\n",
              "      spin 1s steps(1) infinite;\n",
              "  }\n",
              "\n",
              "  @keyframes spin {\n",
              "    0% {\n",
              "      border-color: transparent;\n",
              "      border-bottom-color: var(--fill-color);\n",
              "      border-left-color: var(--fill-color);\n",
              "    }\n",
              "    20% {\n",
              "      border-color: transparent;\n",
              "      border-left-color: var(--fill-color);\n",
              "      border-top-color: var(--fill-color);\n",
              "    }\n",
              "    30% {\n",
              "      border-color: transparent;\n",
              "      border-left-color: var(--fill-color);\n",
              "      border-top-color: var(--fill-color);\n",
              "      border-right-color: var(--fill-color);\n",
              "    }\n",
              "    40% {\n",
              "      border-color: transparent;\n",
              "      border-right-color: var(--fill-color);\n",
              "      border-top-color: var(--fill-color);\n",
              "    }\n",
              "    60% {\n",
              "      border-color: transparent;\n",
              "      border-right-color: var(--fill-color);\n",
              "    }\n",
              "    80% {\n",
              "      border-color: transparent;\n",
              "      border-right-color: var(--fill-color);\n",
              "      border-bottom-color: var(--fill-color);\n",
              "    }\n",
              "    90% {\n",
              "      border-color: transparent;\n",
              "      border-bottom-color: var(--fill-color);\n",
              "    }\n",
              "  }\n",
              "</style>\n",
              "\n",
              "  <script>\n",
              "    async function quickchart(key) {\n",
              "      const quickchartButtonEl =\n",
              "        document.querySelector('#' + key + ' button');\n",
              "      quickchartButtonEl.disabled = true;  // To prevent multiple clicks.\n",
              "      quickchartButtonEl.classList.add('colab-df-spinner');\n",
              "      try {\n",
              "        const charts = await google.colab.kernel.invokeFunction(\n",
              "            'suggestCharts', [key], {});\n",
              "      } catch (error) {\n",
              "        console.error('Error during call to suggestCharts:', error);\n",
              "      }\n",
              "      quickchartButtonEl.classList.remove('colab-df-spinner');\n",
              "      quickchartButtonEl.classList.add('colab-df-quickchart-complete');\n",
              "    }\n",
              "    (() => {\n",
              "      let quickchartButtonEl =\n",
              "        document.querySelector('#df-44471fba-e42a-417b-add9-86eb934fb4c0 button');\n",
              "      quickchartButtonEl.style.display =\n",
              "        google.colab.kernel.accessAllowed ? 'block' : 'none';\n",
              "    })();\n",
              "  </script>\n",
              "</div>\n",
              "\n",
              "    </div>\n",
              "  </div>\n"
            ],
            "application/vnd.google.colaboratory.intrinsic+json": {
              "type": "dataframe",
              "summary": "{\n  \"name\": \"df\",\n  \"rows\": 10,\n  \"fields\": [\n    {\n      \"column\": \"Date\",\n      \"properties\": {\n        \"dtype\": \"date\",\n        \"min\": \"2006-12-27 00:00:00\",\n        \"max\": \"2016-05-16 00:00:00\",\n        \"num_unique_values\": 10,\n        \"samples\": [\n          \"2012-09-10 00:00:00\",\n          \"2012-03-27 00:00:00\",\n          \"2011-06-02 00:00:00\"\n        ],\n        \"semantic_type\": \"\",\n        \"description\": \"\"\n      }\n    },\n    {\n      \"column\": \"Open\",\n      \"properties\": {\n        \"dtype\": \"number\",\n        \"std\": 33.705577200879446,\n        \"min\": 11.16,\n        \"max\": 97.21,\n        \"num_unique_values\": 10,\n        \"samples\": [\n          97.21,\n          86.6,\n          49.5\n        ],\n        \"semantic_type\": \"\",\n        \"description\": \"\"\n      }\n    },\n    {\n      \"column\": \"High\",\n      \"properties\": {\n        \"dtype\": \"number\",\n        \"std\": 34.05106681311338,\n        \"min\": 11.71,\n        \"max\": 97.61,\n        \"num_unique_values\": 10,\n        \"samples\": [\n          97.61,\n          88.04,\n          49.71\n        ],\n        \"semantic_type\": \"\",\n        \"description\": \"\"\n      }\n    },\n    {\n      \"column\": \"Low\",\n      \"properties\": {\n        \"dtype\": \"number\",\n        \"std\": 33.234656359489165,\n        \"min\": 10.97,\n        \"max\": 94.59,\n        \"num_unique_values\": 10,\n        \"samples\": [\n          94.59,\n          86.58,\n          49.19\n        ],\n        \"semantic_type\": \"\",\n        \"description\": \"\"\n      }\n    },\n    {\n      \"column\": \"Close\",\n      \"properties\": {\n        \"dtype\": \"number\",\n        \"std\": 33.60789682334926,\n        \"min\": 11.65,\n        \"max\": 94.68,\n        \"num_unique_values\": 10,\n        \"samples\": [\n          94.68,\n          87.78,\n          49.44\n        ],\n        \"semantic_type\": \"\",\n        \"description\": \"\"\n      }\n    },\n    {\n      \"column\": \"Volume\",\n      \"properties\": {\n        \"dtype\": \"number\",\n        \"std\": 123568032,\n        \"min\": 61140610,\n        \"max\": 485160788,\n        \"num_unique_values\": 10,\n        \"samples\": [\n          121998898,\n          151782141,\n          84721112\n        ],\n        \"semantic_type\": \"\",\n        \"description\": \"\"\n      }\n    },\n    {\n      \"column\": \"Name\",\n      \"properties\": {\n        \"dtype\": \"category\",\n        \"num_unique_values\": 1,\n        \"samples\": [\n          \"AAPL\"\n        ],\n        \"semantic_type\": \"\",\n        \"description\": \"\"\n      }\n    }\n  ]\n}"
            }
          },
          "metadata": {},
          "execution_count": 6
        }
      ]
    },
    {
      "cell_type": "markdown",
      "source": [
        "We will train the LSTM Network using only the highest value of the action (High column in the data set)."
      ],
      "metadata": {
        "id": "Ogjphtn2DV7F"
      }
    },
    {
      "cell_type": "code",
      "source": [
        "df.info()"
      ],
      "metadata": {
        "colab": {
          "base_uri": "https://localhost:8080/"
        },
        "id": "USceCMWA7He6",
        "outputId": "3320bd55-cbbc-4d6f-f4a7-04625eb8cb6f"
      },
      "execution_count": 7,
      "outputs": [
        {
          "output_type": "stream",
          "name": "stdout",
          "text": [
            "<class 'pandas.core.frame.DataFrame'>\n",
            "DatetimeIndex: 3019 entries, 2006-01-03 to 2017-12-29\n",
            "Data columns (total 6 columns):\n",
            " #   Column  Non-Null Count  Dtype  \n",
            "---  ------  --------------  -----  \n",
            " 0   Open    3019 non-null   float64\n",
            " 1   High    3019 non-null   float64\n",
            " 2   Low     3019 non-null   float64\n",
            " 3   Close   3019 non-null   float64\n",
            " 4   Volume  3019 non-null   int64  \n",
            " 5   Name    3019 non-null   object \n",
            "dtypes: float64(4), int64(1), object(1)\n",
            "memory usage: 165.1+ KB\n"
          ]
        }
      ]
    },
    {
      "cell_type": "markdown",
      "source": [
        "**No missing Values, No need to encode the data.**"
      ],
      "metadata": {
        "id": "V9713hqjCYK0"
      }
    },
    {
      "cell_type": "markdown",
      "source": [
        "###**DATA PRE-PROCESSING**\n",
        "\n",
        "Training and validation sets.\n",
        "\n",
        "The LSTM will be trained with data prior to 2016. Validation will be done with data after 2017.\n",
        "In both cases, only the highest value of the action for each day will be used. The idea is that the LSTM Network learns to predict the maximum values ​​of the stock for the year 2017, using the behavior in previous years:"
      ],
      "metadata": {
        "id": "J25_jUs3G8Q_"
      }
    },
    {
      "cell_type": "code",
      "source": [
        "np.random.seed(4)"
      ],
      "metadata": {
        "id": "dsqznrz2FwuF"
      },
      "execution_count": 3,
      "outputs": []
    },
    {
      "cell_type": "code",
      "source": [
        "training_set = df[:'2016'].iloc[:,1:2]\n",
        "validation_set = df['2017':].iloc[:,1:2]\n",
        "\n",
        "training_set['High'].plot(legend=True)\n",
        "validation_set['High'].plot(legend=True)\n",
        "plt.ylabel('Stock value ($ USD)')\n",
        "plt.xlabel('Time (years)')\n",
        "plt.title('Model Schema')\n",
        "plt.legend(['Training (2006-2016)', 'Validation (2017 - )'])\n",
        "plt.show()"
      ],
      "metadata": {
        "colab": {
          "base_uri": "https://localhost:8080/",
          "height": 444
        },
        "id": "WPWsF-bhHTEu",
        "outputId": "e32c922a-8472-4011-906b-622e8a84efcb"
      },
      "execution_count": 8,
      "outputs": [
        {
          "output_type": "display_data",
          "data": {
            "text/plain": [
              "<Figure size 640x480 with 1 Axes>"
            ],
            "image/png": "[encoded data removed]"
          },
          "metadata": {}
        }
      ]
    },
    {
      "cell_type": "markdown",
      "source": [
        "###**Data normalization**\n",
        "For the LSTM Network to be trained, the stock values ​​must be in a defined range. So let's use the Scikit-learn library to normalize these values ​​in the range 0 to 1, using the MinMaxScaler function:"
      ],
      "metadata": {
        "id": "MAVoPqYJHc22"
      }
    },
    {
      "cell_type": "code",
      "source": [
        "scaled = MinMaxScaler(feature_range=(0,1))\n",
        "scaled_training_set = scaled.fit_transform(training_set)"
      ],
      "metadata": {
        "id": "yuzXhw4EHdfu"
      },
      "execution_count": 9,
      "outputs": []
    },
    {
      "cell_type": "markdown",
      "source": [
        "And once the training is done, at the time of prediction, we will perform the inverse transformation to obtain the values ​​on the real scale."
      ],
      "metadata": {
        "id": "sq0hTsqAFR-t"
      }
    },
    {
      "cell_type": "markdown",
      "source": [
        "###**Adjusting training and validation sets.**\n",
        "The LSTM network will have consecutive data as input \"time_step\", and 1 data as output (the prediction from that \"time_step\" data).\n",
        "\n",
        "To train the LSTM Network we will take blocks of 7 consecutive data, and the idea is that each of these allows us to predict the next value.\n",
        "\n",
        "The blocks of 7 data will be stored in the variable \"X\", while the data that must be predicted (data 8 within each sequence) will be stored in the variable \"Y\" and will be used as the output of the LSTM Network:"
      ],
      "metadata": {
        "id": "I5fGt52FHg2G"
      }
    },
    {
      "cell_type": "code",
      "source": [
        "time_step = 7\n",
        "X_train = []\n",
        "Y_train = []\n",
        "m = len(scaled_training_set)\n",
        "\n",
        "for i in range(time_step,m):\n",
        "    # X: \"time_step\" blocks: 0-time_step, 1-time_step+1, 2-time_step+2, etc\n",
        "    X_train.append(scaled_training_set[i-time_step:i,0])\n",
        "\n",
        "    # Y: Next data\n",
        "    Y_train.append(scaled_training_set[i,0])\n",
        "X_train, Y_train = np.array(X_train), np.array(Y_train)"
      ],
      "metadata": {
        "id": "4-mZIcvjHvtG"
      },
      "execution_count": 11,
      "outputs": []
    },
    {
      "cell_type": "markdown",
      "source": [
        "In the previous code we use the for loop to iteratively divide the training set into blocks of 7 data and store the corresponding blocks in different positions of the variables X_train and Y_train.\n",
        "\n",
        "Before creating the LSTM Network we must readjust the sets that we have just obtained, to indicate that each training example at the input of the model will be a 7x1 vector. For this we use Numpy's reshape function:"
      ],
      "metadata": {
        "id": "IjQdT8bgHM3G"
      }
    },
    {
      "cell_type": "code",
      "source": [
        "X_train = np.reshape(X_train, (X_train.shape[0], X_train.shape[1], 1))"
      ],
      "metadata": {
        "id": "ZQg66jOzHZ4G"
      },
      "execution_count": 12,
      "outputs": []
    },
    {
      "cell_type": "markdown",
      "source": [
        "In the case of each of the outputs (stored in Y_train) we must simply specify that its size will be equal to 1, which corresponds to the only value predicted by the network."
      ],
      "metadata": {
        "id": "U-udvewCH8JG"
      }
    },
    {
      "cell_type": "markdown",
      "source": [
        "###**CREATION AND TRAINING OF THE LSTM NETWORK**\n",
        "To create the network we must first define the size of the input data and the output data, as well as the total number of neurons (100):"
      ],
      "metadata": {
        "id": "qPVVjegFH63P"
      }
    },
    {
      "cell_type": "code",
      "source": [
        "input_data_size = (X_train.shape[1],1)\n",
        "output_data_size = 1\n",
        "neurons = 100"
      ],
      "metadata": {
        "id": "uKY3KKH6Iu_3"
      },
      "execution_count": 13,
      "outputs": []
    },
    {
      "cell_type": "markdown",
      "source": [
        "We will use the Sequential module to create the container, to which we will add the LSTM Network (using the LSTM module) and the output layer (using the Dense module):"
      ],
      "metadata": {
        "id": "8z2_DrTXJAFW"
      }
    },
    {
      "cell_type": "code",
      "source": [
        "model = Sequential()\n",
        "model.add(LSTM(units=neurons, input_shape=input_data_size))\n",
        "model.add(Dropout(0.2))  # Regularization with a 20% Dropout ratio to avoid overfitting\n",
        "model.add(Dense(units=output_data_size))\n",
        "model.compile(optimizer='rmsprop', loss='mse')\n",
        "model.fit(X_train, Y_train, epochs=20, batch_size=32)"
      ],
      "metadata": {
        "colab": {
          "base_uri": "https://localhost:8080/"
        },
        "id": "E9d8jR5VH-Qm",
        "outputId": "1c4b8be0-9e82-4efa-a965-d62093d6511c"
      },
      "execution_count": 14,
      "outputs": [
        {
          "output_type": "stream",
          "name": "stdout",
          "text": [
            "Epoch 1/20\n",
            "87/87 [==============================] - 3s 7ms/step - loss: 0.0093\n",
            "Epoch 2/20\n",
            "87/87 [==============================] - 1s 7ms/step - loss: 0.0019\n",
            "Epoch 3/20\n",
            "87/87 [==============================] - 1s 7ms/step - loss: 0.0015\n",
            "Epoch 4/20\n",
            "87/87 [==============================] - 1s 7ms/step - loss: 0.0015\n",
            "Epoch 5/20\n",
            "87/87 [==============================] - 1s 7ms/step - loss: 0.0013\n",
            "Epoch 6/20\n",
            "87/87 [==============================] - 1s 8ms/step - loss: 0.0013\n",
            "Epoch 7/20\n",
            "87/87 [==============================] - 1s 10ms/step - loss: 0.0013\n",
            "Epoch 8/20\n",
            "87/87 [==============================] - 1s 11ms/step - loss: 0.0011\n",
            "Epoch 9/20\n",
            "87/87 [==============================] - 1s 10ms/step - loss: 0.0011\n",
            "Epoch 10/20\n",
            "87/87 [==============================] - 1s 11ms/step - loss: 0.0010\n",
            "Epoch 11/20\n",
            "87/87 [==============================] - 1s 11ms/step - loss: 8.8071e-04\n",
            "Epoch 12/20\n",
            "87/87 [==============================] - 1s 11ms/step - loss: 0.0010\n",
            "Epoch 13/20\n",
            "87/87 [==============================] - 1s 7ms/step - loss: 9.3618e-04\n",
            "Epoch 14/20\n",
            "87/87 [==============================] - 1s 7ms/step - loss: 8.8544e-04\n",
            "Epoch 15/20\n",
            "87/87 [==============================] - 1s 7ms/step - loss: 9.3256e-04\n",
            "Epoch 16/20\n",
            "87/87 [==============================] - 1s 7ms/step - loss: 8.9676e-04\n",
            "Epoch 17/20\n",
            "87/87 [==============================] - 1s 7ms/step - loss: 8.2885e-04\n",
            "Epoch 18/20\n",
            "87/87 [==============================] - 1s 7ms/step - loss: 7.9427e-04\n",
            "Epoch 19/20\n",
            "87/87 [==============================] - 1s 7ms/step - loss: 7.6494e-04\n",
            "Epoch 20/20\n",
            "87/87 [==============================] - 1s 8ms/step - loss: 6.8248e-04\n"
          ]
        },
        {
          "output_type": "execute_result",
          "data": {
            "text/plain": [
              "<keras.src.callbacks.History at 0x7feca412dc30>"
            ]
          },
          "metadata": {},
          "execution_count": 14
        }
      ]
    },
    {
      "cell_type": "markdown",
      "source": [
        "The LSTM Network is added using the add function, specifying the number of neurons to use (**units** parameter) and the size of each input data (**input_shape** parameter).\n",
        "\n",
        "We use the **Dropout** regularization technique with a ratio of 20% to avoid overfitting, randomly disabling a fraction of the units during training.\n",
        "\n",
        "For the output layer we use the **Dense** function and specify that the output data will have a size equal to 1 (units parameter).\n",
        "\n",
        "The model is then compiled, thus defining the error function (**loss** parameter) as well as the method that will be used to minimize it (**optimize** parameter).\n",
        "\n",
        "The selected optimizer (**rmsprop**) works similarly to the Gradient Descent algorithm, while the error function is the root mean square error.\n",
        "\n",
        "Training is easily implemented using the fit function. In this case we will use a total of 20 iterations (**epochs** parameter) and we will present batches of 32 data to the LSTM Network (**batch_size** parameter)."
      ],
      "metadata": {
        "id": "BYz87q4PKMjP"
      }
    },
    {
      "cell_type": "markdown",
      "source": [
        "###**STOCK VALUE PREDICTION**\n",
        "With the model trained, let's see how well this LSTM Network predicts the stock values.\n",
        "\n",
        "Initially we must prepare the validation set, initially normalizing the data, in the range from 0 to 1, for which we use the transformation implemented previously on the training set:"
      ],
      "metadata": {
        "id": "xlwYOjUVIBeO"
      }
    },
    {
      "cell_type": "code",
      "source": [
        "x_test = validation_set.values\n",
        "x_test = scaled.transform(x_test)"
      ],
      "metadata": {
        "colab": {
          "base_uri": "https://localhost:8080/"
        },
        "id": "oiymGmy1Maen",
        "outputId": "859e47a3-192f-4387-dac7-26b7092aefae"
      },
      "execution_count": 15,
      "outputs": [
        {
          "output_type": "stream",
          "name": "stderr",
          "text": [
            "/usr/local/lib/python3.10/dist-packages/sklearn/base.py:439: UserWarning: X does not have valid feature names, but MinMaxScaler was fitted with feature names\n",
            "  warnings.warn(\n"
          ]
        }
      ]
    },
    {
      "cell_type": "markdown",
      "source": [
        "Let's remember that the model was trained to take 7 data and generate a data as a prediction. So we need to reorganize the validation set (x_test) so that it has blocks of 7 data:"
      ],
      "metadata": {
        "id": "WXsjdQGxNGuo"
      }
    },
    {
      "cell_type": "code",
      "source": [
        "X_test = []\n",
        "validation_dates = []\n",
        "for i in range(time_step,len(x_test)):\n",
        "    X_test.append(x_test[i-time_step:i,0])\n",
        "    validation_dates.append(validation_set.index[i])\n",
        "X_test = np.array(X_test)\n",
        "X_test = np.reshape(X_test, (X_test.shape[0],X_test.shape[1],1))"
      ],
      "metadata": {
        "id": "XW1ThWleN5m4"
      },
      "execution_count": 16,
      "outputs": []
    },
    {
      "cell_type": "markdown",
      "source": [
        "And finally we make the prediction using the predict function and we apply the inverse normalization of said prediction so that it is on the real scale of the stocks:"
      ],
      "metadata": {
        "id": "pDSdbWcTOC3A"
      }
    },
    {
      "cell_type": "code",
      "source": [
        "prediction = model.predict(X_test)\n",
        "prediction = scaled.inverse_transform(prediction)\n",
        "\n",
        "def prediction_graph(real, prediction, validation_dates):\n",
        "    plt.plot(validation_dates[0:len(prediction)], real[0:len(prediction)], color='red', label='Real stock value')\n",
        "    plt.plot(validation_dates[0:len(prediction)], prediction, color='black', label='Stock value prediction')\n",
        "    plt.ylim(1.1 * np.min(prediction) / 2, 1.1 * np.max(prediction))\n",
        "    plt.xlabel('Time (months)')\n",
        "    plt.ylabel('Stock value ($ USD)')\n",
        "    plt.title('Apple Stock Prediction')\n",
        "    plt.xticks(rotation=45)\n",
        "    plt.legend()\n",
        "    plt.show()\n",
        "\n",
        "prediction_graph(validation_set.values, prediction, validation_dates)"
      ],
      "metadata": {
        "colab": {
          "base_uri": "https://localhost:8080/",
          "height": 525
        },
        "id": "0GRvrUMRIENu",
        "outputId": "e21dba0a-c8bc-4c23-ec34-422ab02e036b"
      },
      "execution_count": 17,
      "outputs": [
        {
          "output_type": "stream",
          "name": "stdout",
          "text": [
            "8/8 [==============================] - 0s 4ms/step\n"
          ]
        },
        {
          "output_type": "display_data",
          "data": {
            "text/plain": [
              "<Figure size 640x480 with 1 Axes>"
            ],
            "image/png": "[encoded data removed]"
          },
          "metadata": {}
        }
      ]
    },
    {
      "cell_type": "markdown",
      "source": [
        "###**CONCLUSION**\n",
        "\n",
        "It is really a preliminary model that can be improved, for example:\n",
        "\n",
        "1. by tuning the hyperparameters (number of neurons, LSTM layers, learning rate)\n",
        "2. Adding cross validation\n",
        "3. Increasing the data set\n",
        "\n",
        "However, this model simply illustrates how to implement an LSTM Network capable of fairly approximately predicting the behavior of a stock on the stock market."
      ],
      "metadata": {
        "id": "YD3VE_GaRJzB"
      }
    }
  ]
}